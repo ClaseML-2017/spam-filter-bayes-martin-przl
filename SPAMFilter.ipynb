{
 "cells": [
  {
   "cell_type": "code",
   "execution_count": 14,
   "metadata": {},
   "outputs": [
    {
     "name": "stderr",
     "output_type": "stream",
     "text": [
      "/Users/apple/Desktop/MachineLearning/venvPrueba/lib/python2.7/site-packages/sklearn/cross_validation.py:41: DeprecationWarning: This module was deprecated in version 0.18 in favor of the model_selection module into which all the refactored classes and functions are moved. Also note that the interface of the new CV iterators are different from that of this module. This module will be removed in 0.20.\n",
      "  \"This module will be removed in 0.20.\", DeprecationWarning)\n"
     ]
    }
   ],
   "source": [
    "\n",
    "from sklearn.naive_bayes import GaussianNB\n",
    "from sklearn.cross_validation import train_test_split\n",
    "from sklearn.metrics import confusion_matrix\n",
    "from sklearn.metrics import roc_curve, auc\n",
    "from sklearn import preprocessing\n",
    "from sklearn.metrics import mean_squared_error\n",
    "from sklearn.metrics import classification_report\n",
    "from sklearn.metrics import accuracy_score\n",
    "from math import sqrt\n",
    "from sklearn import metrics\n",
    "\n",
    "\n",
    "import pandas as pd\n",
    "import csv\n",
    "import numpy as np\n",
    "import matplotlib.pyplot as plt\n",
    "from scipy.stats import norm\n",
    "%matplotlib inline"
   ]
  },
  {
   "cell_type": "code",
   "execution_count": 15,
   "metadata": {},
   "outputs": [],
   "source": [
    "def ClasificadorBayesianoContinuo(x):\n",
    "    Spam=np.log(P_Spam)\n",
    "    sumaSpam=0.0\n",
    "    sumaNSpam=0.0\n",
    "    noSpam=np.log(P_NoSpam)\n",
    "    for i in range(len(VarSpam[0])):\n",
    "        if mediaS[i]!= 0.0 and dsS[i]>0.0:\n",
    "            sumaSpam+= np.log(norm(mediaS[i],dsS[i]).pdf(x[i]))\n",
    "\n",
    "    for i in range(len(VarSpam[1])):\n",
    "        if mediaNS[i]!= 0.0 and dsNS[i]>0.0:\n",
    "            sumaNSpam+= np.log(norm(mediaNS[i],dsNS[i]).pdf(x[i]))\n",
    "            \n",
    "    Spam+= sumaSpam\n",
    "    noSpam+= sumaNSpam\n",
    "\n",
    "    if Spam > noSpam:\n",
    "        return 1\n",
    "    else:\n",
    "        return 0"
   ]
  },
  {
   "cell_type": "code",
   "execution_count": 31,
   "metadata": {},
   "outputs": [],
   "source": [
    "df = pd.read_csv(\"spambase.csv\", header=None)"
   ]
  },
  {
   "cell_type": "code",
   "execution_count": 32,
   "metadata": {},
   "outputs": [],
   "source": [
    "X_train, X_test, Y_train, Y_test = train_test_split(df[df.columns[0:-1]], df[df.columns[-1]], train_size=0.75)"
   ]
  },
  {
   "cell_type": "code",
   "execution_count": 33,
   "metadata": {},
   "outputs": [
    {
     "data": {
      "text/plain": [
       "0.392463768115942"
      ]
     },
     "execution_count": 33,
     "metadata": {},
     "output_type": "execute_result"
    }
   ],
   "source": [
    "P_Spam= float(sum(Y_train))/float(len(Y_train))\n",
    "P_Spam"
   ]
  },
  {
   "cell_type": "code",
   "execution_count": 34,
   "metadata": {},
   "outputs": [
    {
     "data": {
      "text/plain": [
       "0.607536231884058"
      ]
     },
     "execution_count": 34,
     "metadata": {},
     "output_type": "execute_result"
    }
   ],
   "source": [
    "P_NoSpam= 1 - P_Spam\n",
    "P_NoSpam"
   ]
  },
  {
   "cell_type": "code",
   "execution_count": 35,
   "metadata": {},
   "outputs": [],
   "source": [
    "X_train= np.array(X_train)\n",
    "Y_train= np.array(Y_train)\n",
    "X_test=np.array(X_test)\n",
    "Y_test=np.array(Y_test)"
   ]
  },
  {
   "cell_type": "code",
   "execution_count": 37,
   "metadata": {},
   "outputs": [],
   "source": [
    "VarSpam = np.array([X_train[i] for i in range(len(X_train)) if Y_train[i]==1])"
   ]
  },
  {
   "cell_type": "code",
   "execution_count": 38,
   "metadata": {},
   "outputs": [],
   "source": [
    "VarNoSpam = np.array([X_train[i] for i in range(len(X_train)) if Y_train[i]==0])"
   ]
  },
  {
   "cell_type": "code",
   "execution_count": 39,
   "metadata": {},
   "outputs": [
    {
     "data": {
      "text/plain": [
       "array([[  4.90000000e-01,   0.00000000e+00,   9.90000000e-01, ...,\n",
       "          1.46800000e+00,   8.00000000e+00,   9.40000000e+01],\n",
       "       [  0.00000000e+00,   0.00000000e+00,   0.00000000e+00, ...,\n",
       "          2.33300000e+00,   1.40000000e+01,   1.19000000e+02],\n",
       "       [  0.00000000e+00,   9.00000000e-02,   1.40000000e-01, ...,\n",
       "          3.37000000e+00,   8.70000000e+01,   1.64500000e+03],\n",
       "       ..., \n",
       "       [  0.00000000e+00,   1.80000000e-01,   1.10000000e+00, ...,\n",
       "          8.44500000e+00,   6.96000000e+02,   1.47800000e+03],\n",
       "       [  0.00000000e+00,   0.00000000e+00,   8.50000000e-01, ...,\n",
       "          1.20600000e+00,   7.00000000e+00,   1.17000000e+02],\n",
       "       [  1.90000000e-01,   0.00000000e+00,   1.90000000e-01, ...,\n",
       "          2.13300000e+00,   4.00000000e+01,   3.03000000e+02]])"
      ]
     },
     "execution_count": 39,
     "metadata": {},
     "output_type": "execute_result"
    }
   ],
   "source": [
    "VarSpam"
   ]
  },
  {
   "cell_type": "code",
   "execution_count": 40,
   "metadata": {},
   "outputs": [],
   "source": [
    "mediaS=np.mean(X_train[Y_train==1],0)\n",
    "dsS=np.std (X_train[Y_train==1],0)\n",
    "mediaNS=np.mean(X_train[Y_train==0],0)\n",
    "dsNS=np.std(X_train[Y_train==0],0)"
   ]
  },
  {
   "cell_type": "code",
   "execution_count": 41,
   "metadata": {},
   "outputs": [
    {
     "name": "stderr",
     "output_type": "stream",
     "text": [
      "/Users/apple/Desktop/MachineLearning/venvPrueba/lib/python2.7/site-packages/ipykernel_launcher.py:8: RuntimeWarning: divide by zero encountered in log\n",
      "  \n",
      "/Users/apple/Desktop/MachineLearning/venvPrueba/lib/python2.7/site-packages/ipykernel_launcher.py:12: RuntimeWarning: divide by zero encountered in log\n",
      "  if sys.path[0] == '':\n"
     ]
    }
   ],
   "source": [
    "Y_pred= [ClasificadorBayesianoContinuo(x) for x in X_test]"
   ]
  },
  {
   "cell_type": "code",
   "execution_count": 42,
   "metadata": {},
   "outputs": [
    {
     "name": "stderr",
     "output_type": "stream",
     "text": [
      "/System/Library/Frameworks/Python.framework/Versions/2.7/Extras/lib/python/scipy/sparse/coo.py:200: VisibleDeprecationWarning: `rank` is deprecated; use the `ndim` attribute or function instead. To find the rank of a matrix see `numpy.linalg.matrix_rank`.\n",
      "  if np.rank(self.data) != 1 or np.rank(self.row) != 1 or np.rank(self.col) != 1:\n"
     ]
    },
    {
     "data": {
      "text/plain": [
       "array([[515, 177],\n",
       "       [ 36, 423]])"
      ]
     },
     "execution_count": 42,
     "metadata": {},
     "output_type": "execute_result"
    }
   ],
   "source": [
    "confusion_matrix(Y_test, Y_pred)"
   ]
  },
  {
   "cell_type": "code",
   "execution_count": null,
   "metadata": {},
   "outputs": [],
   "source": []
  }
 ],
 "metadata": {
  "kernelspec": {
   "display_name": "Python 2",
   "language": "python",
   "name": "python2"
  },
  "language_info": {
   "codemirror_mode": {
    "name": "ipython",
    "version": 2
   },
   "file_extension": ".py",
   "mimetype": "text/x-python",
   "name": "python",
   "nbconvert_exporter": "python",
   "pygments_lexer": "ipython2",
   "version": "2.7.10"
  }
 },
 "nbformat": 4,
 "nbformat_minor": 2
}
